{
  "nbformat": 4,
  "nbformat_minor": 0,
  "metadata": {
    "colab": {
      "name": "WebSocketClient.ipynb",
      "provenance": [],
      "authorship_tag": "ABX9TyNVlNHeyUvsq8lF/AClGiC+",
      "include_colab_link": true
    },
    "kernelspec": {
      "name": "python3",
      "display_name": "Python 3"
    }
  },
  "cells": [
    {
      "cell_type": "markdown",
      "metadata": {
        "id": "view-in-github",
        "colab_type": "text"
      },
      "source": [
        "<a href=\"https://colab.research.google.com/github/andrewcgaitskell/TicTacToe-Pygame/blob/master/WebSocketClient.ipynb\" target=\"_parent\"><img src=\"https://colab.research.google.com/assets/colab-badge.svg\" alt=\"Open In Colab\"/></a>"
      ]
    },
    {
      "cell_type": "code",
      "metadata": {
        "colab": {
          "base_uri": "https://localhost:8080/"
        },
        "id": "kY9PjU9zF5Gv",
        "outputId": "3f144fa5-6c87-4ee2-b236-cf7816fc1b69"
      },
      "source": [
        "!pip install websockets\n",
        "!pip install nest_asyncio"
      ],
      "execution_count": 4,
      "outputs": [
        {
          "output_type": "stream",
          "text": [
            "Requirement already satisfied: websockets in /usr/local/lib/python3.6/dist-packages (8.1)\n",
            "Requirement already satisfied: nest_asyncio in /usr/local/lib/python3.6/dist-packages (1.5.1)\n"
          ],
          "name": "stdout"
        }
      ]
    },
    {
      "cell_type": "code",
      "metadata": {
        "id": "ScyHjoLIGrfy"
      },
      "source": [
        "import nest_asyncio\n",
        "nest_asyncio.apply()"
      ],
      "execution_count": 6,
      "outputs": []
    },
    {
      "cell_type": "code",
      "metadata": {
        "colab": {
          "base_uri": "https://localhost:8080/"
        },
        "id": "6n1GONHbF2x3",
        "outputId": "98bc6e5d-187c-403f-fd67-672fe1b86580"
      },
      "source": [
        "import asyncio\n",
        "import websockets\n",
        "\n",
        "async def hello():\n",
        "    uri = \"ws://player2.acgtest.info:5008\"\n",
        "    async with websockets.connect(uri) as websocket:\n",
        "        name = \"DD\"\n",
        "\n",
        "        await websocket.send(name)\n",
        "        print(f\"> {name}\")\n",
        "\n",
        "        greeting = await websocket.recv()\n",
        "        print(f\"< {greeting}\")\n",
        "\n",
        "asyncio.get_event_loop().run_until_complete(hello())"
      ],
      "execution_count": 7,
      "outputs": [
        {
          "output_type": "stream",
          "text": [
            "> DD\n",
            "< Hello DD!\n"
          ],
          "name": "stdout"
        }
      ]
    }
  ]
}
