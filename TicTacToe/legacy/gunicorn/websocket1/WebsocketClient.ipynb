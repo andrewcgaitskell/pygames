{
  "nbformat": 4,
  "nbformat_minor": 0,
  "metadata": {
    "colab": {
      "name": "WebsocketClient.ipynb",
      "provenance": [],
      "collapsed_sections": [],
      "authorship_tag": "ABX9TyNb1dUExEecJ4VjfCCkJB/O",
      "include_colab_link": true
    },
    "kernelspec": {
      "name": "python3",
      "display_name": "Python 3"
    }
  },
  "cells": [
    {
      "cell_type": "markdown",
      "metadata": {
        "id": "view-in-github",
        "colab_type": "text"
      },
      "source": [
        "<a href=\"https://colab.research.google.com/github/andrewcgaitskell/TicTacToe-Pygame/blob/master/WebsocketClient.ipynb\" target=\"_parent\"><img src=\"https://colab.research.google.com/assets/colab-badge.svg\" alt=\"Open In Colab\"/></a>"
      ]
    },
    {
      "cell_type": "code",
      "metadata": {
        "id": "fyZpFSJEtB0q"
      },
      "source": [
        "!pip install websocket_client "
      ],
      "execution_count": null,
      "outputs": []
    },
    {
      "cell_type": "code",
      "metadata": {
        "colab": {
          "base_uri": "https://localhost:8080/"
        },
        "id": "u-SVT-fotLqo",
        "outputId": "2121c697-1cf0-47be-f841-b3f28a737212"
      },
      "source": [
        "from websocket import create_connection\n",
        "uri = \"ws://player2.acgtest.info:5008/echo\"\n",
        "ws = create_connection(uri)\n",
        "print(\"Sending 'Hello, World'...\")\n",
        "ws.send(\"Hello, World\")\n",
        "print(\"Sent\")\n",
        "print(\"Receiving...\")\n",
        "result =  ws.recv()\n",
        "print(\"Received '%s'\" % result)\n",
        "ws.close()"
      ],
      "execution_count": null,
      "outputs": [
        {
          "output_type": "stream",
          "text": [
            "Sending 'Hello, World'...\n",
            "Sent\n",
            "Receiving...\n",
            "Received 'Hello, World'\n"
          ],
          "name": "stdout"
        }
      ]
    }
  ]
}
