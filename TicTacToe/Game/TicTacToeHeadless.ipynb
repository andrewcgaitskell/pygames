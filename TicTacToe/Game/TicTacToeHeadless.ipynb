{
  "nbformat": 4,
  "nbformat_minor": 0,
  "metadata": {
    "colab": {
      "name": "TicTacToe.ipynb",
      "provenance": [],
      "collapsed_sections": [],
      "authorship_tag": "ABX9TyNvOJjbMoky4NNpLR02sRNp",
      "include_colab_link": true
    },
    "kernelspec": {
      "name": "python3",
      "display_name": "Python 3"
    }
  },
  "cells": [
    {
      "cell_type": "markdown",
      "metadata": {
        "id": "view-in-github",
        "colab_type": "text"
      },
      "source": [
        "<a href=\"https://colab.research.google.com/github/andrewcgaitskell/TicTacToe-Pygame/blob/master/TicTacToe.ipynb\" target=\"_parent\"><img src=\"https://colab.research.google.com/assets/colab-badge.svg\" alt=\"Open In Colab\"/></a>"
      ]
    },
    {
      "cell_type": "code",
      "metadata": {
        "id": "k0fNN9Irv_2t"
      },
      "source": [
        "# Define the board\n",
        "board = [['N', 'N', 'N'],\n",
        "         ['N', 'N', 'N'],\n",
        "         ['N', 'N', 'N']]\n",
        "keys = [['1', '2', '3'],\n",
        "         ['4', '5', '6'],\n",
        "         ['7', '8', '9']]"
      ],
      "execution_count": 26,
      "outputs": []
    },
    {
      "cell_type": "code",
      "metadata": {
        "colab": {
          "base_uri": "https://localhost:8080/"
        },
        "id": "KZyj_wX93V08",
        "outputId": "66c093ea-2497-4c38-ac73-a95ace7ead87"
      },
      "source": [
        "def getPos(keyIn):\n",
        "  rowID = 0\n",
        "  colID = 0\n",
        "  retRow = 0\n",
        "  retCol = 0\n",
        "  for rows in keys:\n",
        "    colID = 0\n",
        "    \n",
        "    for cells in rows:\n",
        "      #print(cells,keyIn)\n",
        "      \n",
        "      if cells == keyIn:\n",
        "        retRow = rowID\n",
        "        retCol = colID\n",
        "        break\n",
        "      colID += 1\n",
        "  \n",
        "    rowID += 1\n",
        "\n",
        "  return retRow,retCol\n",
        "\n",
        "r,c = getPos('9')\n",
        "print(r,c)\n",
        "\n"
      ],
      "execution_count": 27,
      "outputs": [
        {
          "output_type": "stream",
          "text": [
            "2 2\n"
          ],
          "name": "stdout"
        }
      ]
    },
    {
      "cell_type": "code",
      "metadata": {
        "id": "DExef-v2wLfJ",
        "colab": {
          "base_uri": "https://localhost:8080/"
        },
        "outputId": "9eee1499-d7f8-47ac-d5e5-745fea16323c"
      },
      "source": [
        "# Define Scoreboard\n",
        "score = {'X': 0, 'O': 0}\n",
        "score['X'] += 1\n",
        "score"
      ],
      "execution_count": 28,
      "outputs": [
        {
          "output_type": "execute_result",
          "data": {
            "text/plain": [
              "{'O': 0, 'X': 1}"
            ]
          },
          "metadata": {
            "tags": []
          },
          "execution_count": 28
        }
      ]
    },
    {
      "cell_type": "code",
      "metadata": {
        "id": "4uyTeTU6xGEk"
      },
      "source": [
        "def playerMove(player, row, col, board_in):\n",
        "    board_in[row][col] = player\n",
        "    board_out = board_in\n",
        "    return board_out"
      ],
      "execution_count": 29,
      "outputs": []
    },
    {
      "cell_type": "code",
      "metadata": {
        "id": "G8SdxW9xyKRQ"
      },
      "source": [
        "def printBoard(board_in):\n",
        "  for rows in board_in:\n",
        "    print('')\n",
        "    for cells in rows:\n",
        "      print(cells,end=\"\")\n",
        "  print('')\n",
        "  \n",
        "def printKeys(keys_in):\n",
        "  print('---keys---')\n",
        "  for rows in keys_in:\n",
        "    print('')\n",
        "    for cells in rows:\n",
        "      print(cells,end=\"\")"
      ],
      "execution_count": 30,
      "outputs": []
    },
    {
      "cell_type": "code",
      "metadata": {
        "colab": {
          "base_uri": "https://localhost:8080/"
        },
        "id": "_eGnnjObxGPZ",
        "outputId": "9c335a3b-4366-4a5a-a65d-dd7509c49095"
      },
      "source": [
        "#def computerMove(player):\n",
        "# MiniMax algorithm to find the best move\n",
        "bestScore = float('inf')\n",
        "print(bestScore)"
      ],
      "execution_count": 31,
      "outputs": [
        {
          "output_type": "stream",
          "text": [
            "inf\n"
          ],
          "name": "stdout"
        }
      ]
    },
    {
      "cell_type": "code",
      "metadata": {
        "id": "FLt16_ac1gEM"
      },
      "source": [
        "def updatePlayer(player):\n",
        "    if player == 'X':\n",
        "        newPlayer = 'O'\n",
        "    else:\n",
        "        newPlayer = 'X'\n",
        "    return newPlayer\n",
        "\n",
        "\n",
        "# Verify if the current player is the winner\n",
        "def isWinner(player, board_in):\n",
        "    return ((board_in[0][0] == player and board_in[0][1] == player and board_in[0][2] == player) or\n",
        "            (board_in[1][0] == player and board_in[1][1] == player and board_in[1][2] == player) or\n",
        "            (board_in[2][0] == player and board_in[2][1] == player and board_in[2][2] == player) or\n",
        "            (board_in[0][0] == player and board_in[1][0] == player and board_in[2][0] == player) or\n",
        "            (board_in[0][1] == player and board_in[1][1] == player and board_in[2][1] == player) or\n",
        "            (board_in[0][2] == player and board_in[1][2] == player and board_in[2][2] == player) or\n",
        "            (board_in[0][0] == player and board_in[1][1] == player and board_in[2][2] == player) or\n",
        "            (board_in[0][2] == player and board_in[1][1] == player and board_in[2][0] == player))\n",
        "\n",
        "\n",
        "def verifyWinner(player, board_in):\n",
        "    if isWinner(player, board_in):\n",
        "        score[player] += 1\n",
        "        printBoard(board_in)\n",
        "        print(player + \" Wins\")\n",
        "        board_out = resetBoard(board_in)\n",
        "    else:\n",
        "        board_out = board_in\n",
        "    return board_out\n",
        "\n",
        "\n",
        "def isBoardFull(board_in):\n",
        "    for i in range(3):\n",
        "        for j in range(3):\n",
        "            if board_in[i][j] == 'N':\n",
        "                return False\n",
        "    return True\n",
        "\n",
        "\n",
        "def resetBoard(board_in):\n",
        "    for i in range(3):\n",
        "        for j in range(3):\n",
        "            board_in[i][j] = 'N'\n",
        "    board_out = board_in\n",
        "    return board_out\n",
        "\n",
        "\n",
        "def resetGame(board_in):\n",
        "    board_out = resetBoard(board_in)\n",
        "    score['X'] = 0\n",
        "    score['O'] = 0\n",
        "    return board_out"
      ],
      "execution_count": 32,
      "outputs": []
    },
    {
      "cell_type": "code",
      "metadata": {
        "colab": {
          "base_uri": "https://localhost:8080/"
        },
        "id": "B1KqI1mQLwBc",
        "outputId": "8856afb8-b14f-486e-9546-5a93b05f1893"
      },
      "source": [
        "for i in range(3):\n",
        "  print(i)"
      ],
      "execution_count": 33,
      "outputs": [
        {
          "output_type": "stream",
          "text": [
            "0\n",
            "1\n",
            "2\n"
          ],
          "name": "stdout"
        }
      ]
    },
    {
      "cell_type": "code",
      "metadata": {
        "id": "6GbbeWoyxS11"
      },
      "source": [
        "scores = {'X': 1, 'O': -1, 'tie': 0}"
      ],
      "execution_count": 34,
      "outputs": []
    },
    {
      "cell_type": "code",
      "metadata": {
        "id": "uW7jzicDw2S4"
      },
      "source": [
        "def minimax(board_in, cur_player):\n",
        "    # Calculate the board score\n",
        "    if isWinner('X',board_in):\n",
        "        return scores['X']\n",
        "    elif isWinner('O',board_in):\n",
        "        return scores['O']\n",
        "    elif isBoardFull(board_in):\n",
        "        return scores['tie']\n",
        "    # Verify if it is the maximizing or minimizing player\n",
        "    if cur_player == 'X':\n",
        "        bestScore = float('-inf')\n",
        "        nextPlayer = 'O'\n",
        "        minORmax = max\n",
        "    else:\n",
        "        bestScore = float('inf')\n",
        "        nextPlayer = 'X'\n",
        "        minORmax = min\n",
        "    for row in range(3):\n",
        "        for col in range(3):\n",
        "            if board[row][col] == 'N':\n",
        "                board[row][col] = cur_player\n",
        "                nextPlayer = updatePlayer(cur_player)\n",
        "                score = minimax(board_in, nextPlayer)\n",
        "                board[row][col] = 'N'\n",
        "                bestScore = minORmax(score, bestScore)\n",
        "            # In case the 'AI' finds the best possible score\n",
        "            if bestScore == scores[cur_player]:\n",
        "                return bestScore\n",
        "    return bestScore\n",
        "\n"
      ],
      "execution_count": 35,
      "outputs": []
    },
    {
      "cell_type": "code",
      "metadata": {
        "id": "ARbiBWK2JPzQ"
      },
      "source": [
        "import random\n",
        "r = 0\n",
        "c = 0\n",
        "def RandomMove(board_in):\n",
        "  while True:\n",
        "    randomplay = random.randrange(9)+1\n",
        "    playasstring = str(randomplay)\n",
        "    r_out,c_out = getPos(playasstring)\n",
        "    if board_in[r_out][c_out] == 'N':\n",
        "      break\n",
        "  return r_out,c_out\n",
        "\n",
        "def PlayRandomMove(currentPlayer,board_in):\n",
        "  r_play,c_play = RandomMove(board_in)\n",
        "  #print('Random Move is', r_play, c_play)\n",
        "  board_in[r_play][c_play] = currentPlayer;\n",
        "  board_out = board_in\n",
        "  #print(board_out)\n",
        "  return board_out\n",
        "\n",
        "#board = PlayRandomMove('X',board)\n",
        "#printBoard(board)"
      ],
      "execution_count": 36,
      "outputs": []
    },
    {
      "cell_type": "code",
      "metadata": {
        "id": "hig21urA05_k"
      },
      "source": [
        "def computerMove(player, board_in):\n",
        "    # MiniMax algorithm to find the best move\n",
        "    bestScore = float('inf')\n",
        "    bestMoveRow = 0\n",
        "    bestMoveCol = 0\n",
        "    bestMove = (-1,-1)\n",
        "    for row in range(3):\n",
        "        for col in range(3):\n",
        "            if board_in[row][col] == 'N':\n",
        "                board_in[row][col] = player\n",
        "                nextPlayer = updatePlayer(player)\n",
        "                score = minimax(board_in, nextPlayer)\n",
        "                board_in[row][col] = 'N'\n",
        "                if score < bestScore:\n",
        "                    bestScore = score\n",
        "                    bestMoveRow = row\n",
        "                    bestMoveCol = col\n",
        "    board_out = playerMove(player, bestMoveRow, bestMoveCol,board_in)\n",
        "    return board_out"
      ],
      "execution_count": 37,
      "outputs": []
    },
    {
      "cell_type": "code",
      "metadata": {
        "colab": {
          "base_uri": "https://localhost:8080/"
        },
        "id": "63wU2Zv_xjTq",
        "outputId": "7fa6abee-7eeb-46ae-fce5-9d81d536bce5"
      },
      "source": [
        "board = resetBoard(board)\n",
        "printKeys(keys)\n",
        "playerKey = input()\n",
        "row,col = getPos(playerKey)\n",
        "player = 'X'\n",
        "board = playerMove(player, row, col, board)\n",
        "printBoard(board)\n"
      ],
      "execution_count": 38,
      "outputs": [
        {
          "output_type": "stream",
          "text": [
            "---keys---\n",
            "\n",
            "123\n",
            "456\n",
            "7895\n",
            "\n",
            "NNN\n",
            "NXN\n",
            "NNN\n"
          ],
          "name": "stdout"
        }
      ]
    },
    {
      "cell_type": "code",
      "metadata": {
        "id": "goeUh8-_vyY-"
      },
      "source": [
        "#def game(gameMode):\n",
        "    # Set X as the first player\n",
        "board = resetBoard(board)\n",
        "player = 'X' ## human\n",
        "printKeys(keys)\n",
        "#gameMode = 1 # AI vs Human\n",
        "gameMode = 2 # AI vs Random\n",
        "gameMode = 3 # Random vs Random\n",
        "# Game loop\n",
        "running = True\n",
        "gamesPlayed = 0\n",
        "while running:\n",
        "    if int(gamesPlayed/100) = gamesPlayed/100:\n",
        "       print(score)\n",
        "    if isBoardFull(board):\n",
        "        print(\"Board Full - A Tie\")\n",
        "        board = resetBoard(board)\n",
        "        gamesPlayed =+ 1\n",
        "    elif gameMode == 1 and player == 'X':\n",
        "        printBoard(board)\n",
        "        playerKey = input()\n",
        "        row,col = getPos(playerKey)\n",
        "        board = playerMove(player, row, col, board)\n",
        "        board = verifyWinner(player, board)\n",
        "        player = updatePlayer(player)\n",
        "    elif (gameMode == 2 or gameMode==3) and player == 'X':\n",
        "        board = PlayRandomMove(player,board)\n",
        "        #printBoard(board)\n",
        "        board = verifyWinner(player,board)\n",
        "        player = updatePlayer(player)\n",
        "    elif gameMode==3 and player == 'O':\n",
        "        board = PlayRandomMove(player,board)\n",
        "        #printBoard(board)\n",
        "        board = verifyWinner(player,board)\n",
        "        player = updatePlayer(player)\n",
        "    elif (gameMode == 1 or gameMode == 2) and player == 'O':\n",
        "        print('Computer Go')\n",
        "        board = computerMove(player, board)\n",
        "        board = verifyWinner(player, board)\n",
        "        player = updatePlayer(player)\n",
        "    \n",
        "    "
      ],
      "execution_count": null,
      "outputs": []
    },
    {
      "cell_type": "code",
      "metadata": {
        "id": "Of4gxuGNWgN8"
      },
      "source": [
        ""
      ],
      "execution_count": null,
      "outputs": []
    },
    {
      "cell_type": "code",
      "metadata": {
        "id": "vEFP9GKgWgkR"
      },
      "source": [
        ""
      ],
      "execution_count": null,
      "outputs": []
    }
  ]
}