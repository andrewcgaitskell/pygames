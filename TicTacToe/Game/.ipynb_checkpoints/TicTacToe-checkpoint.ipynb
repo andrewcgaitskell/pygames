{
 "cells": [
  {
   "cell_type": "code",
   "execution_count": 1,
   "id": "130a0d13",
   "metadata": {},
   "outputs": [
    {
     "name": "stdout",
     "output_type": "stream",
     "text": [
      "pygame 2.0.1 (SDL 2.0.14, Python 3.8.10)\n",
      "Hello from the pygame community. https://www.pygame.org/contribute.html\n"
     ]
    }
   ],
   "source": [
    "# edited version so it will work on a gcp vm - virtual desktop\n",
    "# disabling all sound\n",
    "\n",
    "import pygame\n",
    "import os\n",
    "\n",
    "# Initialize pygame\n",
    "# Solve play sounds latency\n",
    "# pygame.mixer.pre_init(44100, -16, 2, 1024)\n",
    "# pygame.init()\n",
    "\n",
    "pygame.display.init()\n",
    "pygame.font.init()\n",
    "\n",
    "# Palette - RGB colors\n",
    "blue = (78, 140, 243)\n",
    "light_blue = (100, 100, 255)\n",
    "red = (242, 89, 97)\n",
    "light_red = (255, 100, 100)\n",
    "dark_grey = (85, 85, 85)\n",
    "light_grey = (100, 100, 100)\n",
    "background_color = (225, 225, 225)\n",
    "\n",
    "# Create the window\n",
    "screen = pygame.display.set_mode((300, 350))\n",
    "pygame.display.set_caption('')\n"
   ]
  },
  {
   "cell_type": "code",
   "execution_count": 2,
   "id": "0bc4b912",
   "metadata": {},
   "outputs": [
    {
     "name": "stdout",
     "output_type": "stream",
     "text": [
      "/home/andrewcgaitskell/Documents/Code/TicTacToe-Pygame/Game/data/Images/\n"
     ]
    }
   ],
   "source": [
    "# Player images\n",
    "cwd = os.getcwd()\n",
    "imagesfolder = cwd + '/data/Images/'\n",
    "print(imagesfolder)\n",
    "crossImg = pygame.image.load(imagesfolder + 'crossImg.png')\n",
    "circleImg = pygame.image.load(imagesfolder + 'circleImg.png')\n",
    "previewCrossImg = pygame.image.load(imagesfolder + 'prev_crossImg.png')\n",
    "previewCircleImg = pygame.image.load(imagesfolder + 'prev_circleImg.png')\n",
    "\n",
    "\n",
    "# Bottom Menu Images\n",
    "restartImg = pygame.image.load(imagesfolder + 'restart.png')\n",
    "restartHoveredImg = pygame.image.load(imagesfolder + 'restart_hovered.png')\n",
    "\n",
    "# Define the board\n",
    "board = [['', '', ''],\n",
    "         ['', '', ''],\n",
    "         ['', '', '']]\n",
    "\n",
    "# Define Scoreboard\n",
    "score = {'X': 0, 'O': 0}\n",
    "font = pygame.font.Font('freesansbold.ttf', 32)\n",
    "X_score = pygame.image.load(imagesfolder + 'X_scoreImg.png')\n",
    "O_score = pygame.image.load(imagesfolder + 'O_scoreImg.png')\n"
   ]
  },
  {
   "cell_type": "code",
   "execution_count": 3,
   "id": "a878e05a",
   "metadata": {},
   "outputs": [],
   "source": [
    "# Menu Images\n",
    "button1 = pygame.image.load(imagesfolder + 'button1Img.png')\n",
    "button1_rect = button1.get_rect()\n",
    "button1_rect.center = (150, 156)\n",
    "button2 = pygame.image.load(imagesfolder + 'button2Img.png')\n",
    "button2_rect = button2.get_rect()\n",
    "button2_rect.center = (150, 236)\n",
    "logo = pygame.image.load(imagesfolder + 'logo.png')"
   ]
  },
  {
   "cell_type": "code",
   "execution_count": 4,
   "id": "b5702e39",
   "metadata": {},
   "outputs": [],
   "source": [
    "def menu():\n",
    "    running = True\n",
    "    while running:\n",
    "        screen.fill(background_color)\n",
    "        mx, my = pygame.mouse.get_pos()\n",
    "        for event in pygame.event.get():\n",
    "            if event.type == pygame.QUIT:\n",
    "                running = False\n",
    "            elif event.type == pygame.MOUSEBUTTONDOWN:\n",
    "                if button1_rect.collidepoint((mx, my)):\n",
    "                    #playSound('Data/Sounds/buttonSound.wav')\n",
    "                    game(0)\n",
    "                elif button2_rect.collidepoint((mx, my)):\n",
    "                    #playSound('Data/Sounds/buttonSound.wav')\n",
    "                    game(1)\n",
    "        screen.blit(logo, (8, 25))\n",
    "        pygame.draw.rect(screen, dark_grey, (45, 120, 210, 73))\n",
    "        screen.blit(button1, (50, 125))\n",
    "        pygame.draw.rect(screen, dark_grey, (45, 200, 210, 73))\n",
    "        screen.blit(button2, (50, 205))\n",
    "        pygame.display.update()"
   ]
  },
  {
   "cell_type": "code",
   "execution_count": 5,
   "id": "a0398d01",
   "metadata": {},
   "outputs": [],
   "source": [
    "def game(gameMode):\n",
    "    pygame.mouse.set_pos(150, 175)\n",
    "    # Set X as the first player\n",
    "    player = 'X'\n",
    "    previewImg = previewCrossImg\n",
    "    # Game loop\n",
    "    running = True\n",
    "    while running:\n",
    "        # Mouse\n",
    "        mouse = pygame.mouse.get_pos()\n",
    "        row, col = int(mouse[0] / 100), int(mouse[1] / 100)\n",
    "        # Analyzes each game event\n",
    "        for event in pygame.event.get():\n",
    "            if event.type == pygame.QUIT:\n",
    "                resetGame()\n",
    "                running = False\n",
    "            elif isBoardFull():\n",
    "                resetBoard()\n",
    "            elif gameMode == 1 and player == 'O':\n",
    "                computerMove(player)\n",
    "                verifyWinner(player)\n",
    "                player, previewImg = updatePlayer(player)\n",
    "            elif event.type == pygame.MOUSEBUTTONDOWN:\n",
    "                # If an empty spot is pressed\n",
    "                if row < 3 and col < 3 and board[row][col] == '':\n",
    "                    playerMove(player, row, col)\n",
    "                    verifyWinner(player)\n",
    "                    player, previewImg = updatePlayer(player)\n",
    "                # If reset button is pressed\n",
    "                elif 250 < mouse[0] < 282 and 310 < mouse[1] < 342:\n",
    "                    resetGame()\n",
    "        # Draw in screen graphical elements\n",
    "        screen.fill(background_color)\n",
    "        drawBoard()\n",
    "        drawButtonMenu(mouse)\n",
    "        if row < 3 and col < 3 and gameMode == 0:\n",
    "            visualizeMove(row, col, previewImg)\n",
    "        elif row < 3 and col < 3 and player == 'X':\n",
    "            visualizeMove(row, col, previewImg)\n",
    "        pygame.display.update()"
   ]
  },
  {
   "cell_type": "code",
   "execution_count": 6,
   "id": "47b9c0e6",
   "metadata": {},
   "outputs": [],
   "source": [
    "def drawBoard():\n",
    "    # Draws each house\n",
    "    for row in range(3):\n",
    "        for col in range(3):\n",
    "            pos = (row * 100+6, col * 100+6)\n",
    "            if board[row][col] == 'X':\n",
    "                screen.blit(crossImg, pos)\n",
    "            elif board[row][col] == 'O':\n",
    "                screen.blit(circleImg, pos)\n",
    "    # Draws the grid\n",
    "    width = 10\n",
    "    color = dark_grey\n",
    "    pygame.draw.line(screen, color, (100, 0), (100, 300), width)\n",
    "    pygame.draw.line(screen, color, (200, 0), (200, 300), width)\n",
    "    pygame.draw.line(screen, color, (0, 100), (300, 100), width)\n",
    "    pygame.draw.line(screen, color, (0, 200), (300, 200), width)\n",
    "    # Boards\n",
    "    pygame.draw.rect(screen, color, (0, 0, 5, 300))\n",
    "    pygame.draw.rect(screen, color, (0, 0, 300, 5))\n",
    "    pygame.draw.rect(screen, color, (295, 0, 5, 300))\n"
   ]
  },
  {
   "cell_type": "code",
   "execution_count": 7,
   "id": "a05763c7",
   "metadata": {},
   "outputs": [],
   "source": [
    "def drawButtonMenu(mouse):\n",
    "    pygame.draw.rect(screen, dark_grey, (0, 300, 300, 50))\n",
    "    pygame.draw.rect(screen, light_grey, (5, 305, 290, 40))\n",
    "    screen.blit(restartImg, (250, 310))\n",
    "    # Hover animation\n",
    "    if 250 < mouse[0] < 282 and 310 < mouse[1] < 342:\n",
    "        screen.blit(restartHoveredImg, (248, 308))\n",
    "    screen.blit(X_score, (40, 310))\n",
    "    screen.blit(O_score, (190, 310))\n",
    "    scoreboard = font.render(': %d x %d :' % (score['X'], score['O']), True, background_color, light_grey)\n",
    "    screen.blit(scoreboard, (72, 310))\n"
   ]
  },
  {
   "cell_type": "code",
   "execution_count": 8,
   "id": "023cb625",
   "metadata": {},
   "outputs": [],
   "source": [
    "def visualizeMove(row, col, previewImg):\n",
    "    if board[row][col] == '':\n",
    "        screen.blit(previewImg, (row*100+6, col*100+6))"
   ]
  },
  {
   "cell_type": "code",
   "execution_count": 9,
   "id": "e22ab4b7",
   "metadata": {},
   "outputs": [],
   "source": [
    "def playerMove(player, row, col):\n",
    "    board[row][col] = player"
   ]
  },
  {
   "cell_type": "code",
   "execution_count": 10,
   "id": "bff71bc6",
   "metadata": {},
   "outputs": [],
   "source": [
    "def computerMove(player):\n",
    "    # MiniMax algorithm to find the best move\n",
    "    bestScore = float('inf')\n",
    "    for row in range(3):\n",
    "        for col in range(3):\n",
    "            if board[row][col] == '':\n",
    "                board[row][col] = 'O'\n",
    "                score = minimax(board, 'X')\n",
    "                board[row][col] = ''\n",
    "                if score < bestScore:\n",
    "                    bestScore = score\n",
    "                    bestMove = (row, col)\n",
    "    board[bestMove[0]][bestMove[1]] = 'O'\n",
    "\n",
    "\n",
    "scores = {'X': 1, 'O': -1, 'tie': 0}"
   ]
  },
  {
   "cell_type": "code",
   "execution_count": 11,
   "id": "b04b2e38",
   "metadata": {},
   "outputs": [],
   "source": [
    "def minimax(board, cur_player):\n",
    "    # Calculate the board score\n",
    "    if isWinner('X'):\n",
    "        return scores['X']\n",
    "    elif isWinner('O'):\n",
    "        return scores['O']\n",
    "    elif isBoardFull():\n",
    "        return scores['tie']\n",
    "    # Verify if it is the maximizing or minimizing player\n",
    "    if cur_player == 'X':\n",
    "        bestScore = float('-inf')\n",
    "        nextPlayer = 'O'\n",
    "        minORmax = max\n",
    "    else:\n",
    "        bestScore = float('inf')\n",
    "        nextPlayer = 'X'\n",
    "        minORmax = min\n",
    "    for row in range(3):\n",
    "        for col in range(3):\n",
    "            if board[row][col] == '':\n",
    "                board[row][col] = cur_player\n",
    "                score = minimax(board, nextPlayer)\n",
    "                board[row][col] = ''\n",
    "                bestScore = minORmax(score, bestScore)\n",
    "            # In case the 'AI' finds the best possible score\n",
    "            if bestScore == scores[cur_player]:\n",
    "                return bestScore\n",
    "    return bestScore\n",
    "\n"
   ]
  },
  {
   "cell_type": "code",
   "execution_count": 12,
   "id": "5d1ef615",
   "metadata": {},
   "outputs": [],
   "source": [
    "def updatePlayer(player):\n",
    "    if player == 'X':\n",
    "        newPlayer = 'O'\n",
    "        previewImg = previewCircleImg\n",
    "    else:\n",
    "        newPlayer = 'X'\n",
    "        previewImg = previewCrossImg\n",
    "    return newPlayer, previewImg\n"
   ]
  },
  {
   "cell_type": "code",
   "execution_count": 13,
   "id": "d75710f5",
   "metadata": {},
   "outputs": [],
   "source": [
    "# Verify if the current player is the winner\n",
    "def isWinner(player):\n",
    "    return ((board[0][0] == player and board[0][1] == player and board[0][2] == player) or\n",
    "            (board[1][0] == player and board[1][1] == player and board[1][2] == player) or\n",
    "            (board[2][0] == player and board[2][1] == player and board[2][2] == player) or\n",
    "            (board[0][0] == player and board[1][0] == player and board[2][0] == player) or\n",
    "            (board[0][1] == player and board[1][1] == player and board[2][1] == player) or\n",
    "            (board[0][2] == player and board[1][2] == player and board[2][2] == player) or\n",
    "            (board[0][0] == player and board[1][1] == player and board[2][2] == player) or\n",
    "            (board[0][2] == player and board[1][1] == player and board[2][0] == player))\n"
   ]
  },
  {
   "cell_type": "code",
   "execution_count": 14,
   "id": "8a83810a",
   "metadata": {},
   "outputs": [],
   "source": [
    "def verifyWinner(player):\n",
    "    if isWinner(player):\n",
    "        #playSound('Data/Sounds/resetSound.wav')\n",
    "        score[player] += 1\n",
    "        pygame.time.wait(500)\n",
    "        resetBoard()\n"
   ]
  },
  {
   "cell_type": "code",
   "execution_count": 15,
   "id": "1f2c0f2a",
   "metadata": {},
   "outputs": [],
   "source": [
    "def isBoardFull():\n",
    "    for i in range(3):\n",
    "        for j in range(3):\n",
    "            if board[i][j] == '':\n",
    "                return False\n",
    "    return True"
   ]
  },
  {
   "cell_type": "code",
   "execution_count": 16,
   "id": "24e9abc1",
   "metadata": {},
   "outputs": [],
   "source": [
    "def resetBoard():\n",
    "    for i in range(3):\n",
    "        for j in range(3):\n",
    "            board[i][j] = ''\n"
   ]
  },
  {
   "cell_type": "code",
   "execution_count": 17,
   "id": "7cf999a2",
   "metadata": {},
   "outputs": [],
   "source": [
    "def resetGame():\n",
    "    resetBoard()\n",
    "    score['X'] = 0\n",
    "    score['O'] = 0"
   ]
  },
  {
   "cell_type": "code",
   "execution_count": null,
   "id": "4d1630f7",
   "metadata": {},
   "outputs": [],
   "source": []
  },
  {
   "cell_type": "code",
   "execution_count": 18,
   "id": "2da7b9c4",
   "metadata": {},
   "outputs": [],
   "source": [
    "menu()"
   ]
  }
 ],
 "metadata": {
  "kernelspec": {
   "display_name": "Python 3",
   "language": "python",
   "name": "python3"
  },
  "language_info": {
   "codemirror_mode": {
    "name": "ipython",
    "version": 3
   },
   "file_extension": ".py",
   "mimetype": "text/x-python",
   "name": "python",
   "nbconvert_exporter": "python",
   "pygments_lexer": "ipython3",
   "version": "3.8.10"
  }
 },
 "nbformat": 4,
 "nbformat_minor": 5
}
