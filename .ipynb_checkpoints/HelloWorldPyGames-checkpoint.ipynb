{
 "cells": [
  {
   "cell_type": "code",
   "execution_count": 1,
   "id": "a690f703",
   "metadata": {},
   "outputs": [
    {
     "name": "stdout",
     "output_type": "stream",
     "text": [
      "pygame 2.0.1 (SDL 2.0.14, Python 3.8.10)\n",
      "Hello from the pygame community. https://www.pygame.org/contribute.html\n"
     ]
    },
    {
     "ename": "SystemExit",
     "evalue": "",
     "output_type": "error",
     "traceback": [
      "An exception has occurred, use %tb to see the full traceback.\n",
      "\u001b[0;31mSystemExit\u001b[0m\n"
     ]
    },
    {
     "name": "stderr",
     "output_type": "stream",
     "text": [
      "/home/andrewcgaitskell/Documents/Code/env-data/lib/python3.8/site-packages/IPython/core/interactiveshell.py:3449: UserWarning: To exit: use 'exit', 'quit', or Ctrl-D.\n",
      "  warn(\"To exit: use 'exit', 'quit', or Ctrl-D.\", stacklevel=1)\n"
     ]
    }
   ],
   "source": [
    "## https://gist.github.com/nicolasfig/3903404\n",
    "\n",
    "import pygame, sys\n",
    "from pygame.locals import *\n",
    "\n",
    "#Set up pygame\n",
    "pygame.init()\n",
    "\n",
    "#pygame.display.init()\n",
    "\n",
    "#Set up the window\n",
    "windowSurface = pygame.display.set_mode((500, 400), 0 , 32)\n",
    "pygame.display.set_caption('Hello World')\n",
    "\n",
    "#Set up the colors\n",
    "BLACK = (0,0,0)\n",
    "RED = (255,0,0)\n",
    "GREEN = (0,255,0)\n",
    "BLUE = (0,0,255)\n",
    "WHITE = (255,255,255)\n",
    "\n",
    "#Set up fonts\n",
    "basicFont = pygame.font.SysFont(None, 48)\n",
    "\n",
    "#Set up the text\n",
    "text = basicFont.render('HELLO WORLD', True, WHITE)\n",
    "textRect = text.get_rect()\n",
    "textRect.centerx = windowSurface.get_rect().centerx\n",
    "textRect.centery = windowSurface.get_rect().centery\n",
    "\n",
    "#Draw the white background onto the surface\n",
    "windowSurface.fill(WHITE)\n",
    "\n",
    "#Draw a blue poligon onto the surface\n",
    "pygame.draw.polygon(windowSurface, BLUE, ((250, 0), (500,200),(250,400), (0,200) ))\n",
    "\n",
    "#Draw a green poligon onto the surface\n",
    "pygame.draw.polygon(windowSurface, GREEN, ((125,100),(375,100),(375,300),(125,300)))\n",
    "\n",
    "#Draw a red circle onto the surface\n",
    "pygame.draw.circle(windowSurface, RED, (250,200), 125)\n",
    "\n",
    "#Get a pixel array of the surface\n",
    "pixArray = pygame.PixelArray(windowSurface)\n",
    "pixArray[480][380] = BLACK\n",
    "del pixArray\n",
    "\n",
    "#Draw the text onto the surface\n",
    "windowSurface.blit(text,textRect)\n",
    "\n",
    "#Draw the window onto the screen\n",
    "pygame.display.update()\n",
    "\n",
    "#Run the game loop\n",
    "while True:\n",
    "    for event in pygame.event.get():\n",
    "        if event.type == QUIT:\n",
    "            pygame.quit()\n",
    "            sys.exit()"
   ]
  },
  {
   "cell_type": "code",
   "execution_count": null,
   "id": "6586b479",
   "metadata": {},
   "outputs": [],
   "source": []
  },
  {
   "cell_type": "code",
   "execution_count": null,
   "id": "e97fe58f",
   "metadata": {},
   "outputs": [],
   "source": []
  }
 ],
 "metadata": {
  "kernelspec": {
   "display_name": "Python 3",
   "language": "python",
   "name": "python3"
  },
  "language_info": {
   "codemirror_mode": {
    "name": "ipython",
    "version": 3
   },
   "file_extension": ".py",
   "mimetype": "text/x-python",
   "name": "python",
   "nbconvert_exporter": "python",
   "pygments_lexer": "ipython3",
   "version": "3.8.10"
  }
 },
 "nbformat": 4,
 "nbformat_minor": 5
}
